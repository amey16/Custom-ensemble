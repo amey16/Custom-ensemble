{
 "cells": [
  {
   "cell_type": "code",
   "execution_count": 1,
   "id": "9fed13a4",
   "metadata": {},
   "outputs": [],
   "source": [
    "from sklearn.datasets import make_classification\n",
    "# define dataset\n",
    "X, y = make_classification(n_samples=1000, n_features=20, n_informative=15, n_redundant=5, random_state=1)"
   ]
  },
  {
   "cell_type": "code",
   "execution_count": 4,
   "id": "0841d005",
   "metadata": {},
   "outputs": [
    {
     "data": {
      "text/plain": [
       "Counter({0: 501, 1: 499})"
      ]
     },
     "execution_count": 4,
     "metadata": {},
     "output_type": "execute_result"
    }
   ],
   "source": [
    "from collections import Counter\n",
    "counter = Counter(y)\n",
    "counternter"
   ]
  },
  {
   "cell_type": "code",
   "execution_count": 5,
   "id": "d968e6ba",
   "metadata": {},
   "outputs": [],
   "source": [
    "from sklearn.tree import DecisionTreeClassifier\n",
    "from sklearn.ensemble import RandomForestClassifier\n",
    "from sklearn.svm import SVC\n",
    "from sklearn.model_selection import cross_val_score\n",
    "from sklearn.model_selection import RepeatedStratifiedKFold\n",
    "from sklearn.ensemble import VotingClassifier\n",
    "from sklearn.pipeline import Pipeline\n",
    "\n",
    "# get models\n",
    "# get a voting ensemble of models\n",
    "# define the base models\n",
    "models = list()\n",
    "\n",
    "decision_tree = Pipeline([('m', DecisionTreeClassifier())])\n",
    "models.append(('decision', decision_tree))\n",
    "\n",
    "randomforest = Pipeline([('m', RandomForestClassifier())])\n",
    "models.append(('randomforest', randomforest))\n",
    "\n",
    "svc = Pipeline([('m', SVC())])\n",
    "models.append(('svc', svc))\n",
    "# define the voting ensemble\n",
    "ensemble = VotingClassifier(estimators=models, voting='hard')"
   ]
  },
  {
   "cell_type": "code",
   "execution_count": 6,
   "id": "13071a37",
   "metadata": {},
   "outputs": [
    {
     "data": {
      "text/plain": [
       "[('decision', Pipeline(steps=[('m', DecisionTreeClassifier())])),\n",
       " ('randomforest', Pipeline(steps=[('m', RandomForestClassifier())])),\n",
       " ('svc', Pipeline(steps=[('m', SVC())]))]"
      ]
     },
     "execution_count": 6,
     "metadata": {},
     "output_type": "execute_result"
    }
   ],
   "source": [
    "models"
   ]
  },
  {
   "cell_type": "code",
   "execution_count": 7,
   "id": "705397ed",
   "metadata": {},
   "outputs": [
    {
     "data": {
      "text/plain": [
       "VotingClassifier(estimators=[('decision',\n",
       "                              Pipeline(steps=[('m',\n",
       "                                               DecisionTreeClassifier())])),\n",
       "                             ('randomforest',\n",
       "                              Pipeline(steps=[('m',\n",
       "                                               RandomForestClassifier())])),\n",
       "                             ('svc', Pipeline(steps=[('m', SVC())]))])"
      ]
     },
     "execution_count": 7,
     "metadata": {},
     "output_type": "execute_result"
    }
   ],
   "source": [
    "ensemble"
   ]
  },
  {
   "cell_type": "code",
   "execution_count": 8,
   "id": "f006b8cf",
   "metadata": {},
   "outputs": [],
   "source": [
    "cv = RepeatedStratifiedKFold(n_splits=10, n_repeats=3, random_state=1)\n",
    "n_scores = cross_val_score(ensemble, X, y, scoring='accuracy', cv=cv, n_jobs=-1)"
   ]
  },
  {
   "cell_type": "code",
   "execution_count": 9,
   "id": "8818d4ec",
   "metadata": {},
   "outputs": [
    {
     "data": {
      "text/plain": [
       "array([0.93, 0.96, 0.95, 0.92, 0.89, 0.96, 0.92, 0.93, 0.97, 0.94, 0.97,\n",
       "       0.89, 0.92, 0.95, 0.95, 0.94, 0.93, 0.93, 0.96, 0.95, 0.94, 0.97,\n",
       "       0.96, 0.97, 0.92, 0.88, 0.96, 0.93, 0.93, 0.9 ])"
      ]
     },
     "execution_count": 9,
     "metadata": {},
     "output_type": "execute_result"
    }
   ],
   "source": [
    "n_scores"
   ]
  },
  {
   "cell_type": "code",
   "execution_count": 10,
   "id": "37df17d3",
   "metadata": {},
   "outputs": [
    {
     "data": {
      "text/plain": [
       "0.9373333333333334"
      ]
     },
     "execution_count": 10,
     "metadata": {},
     "output_type": "execute_result"
    }
   ],
   "source": [
    "n_scores.mean()"
   ]
  },
  {
   "cell_type": "code",
   "execution_count": null,
   "id": "5dddbdb6",
   "metadata": {},
   "outputs": [],
   "source": []
  }
 ],
 "metadata": {
  "kernelspec": {
   "display_name": "Python 3",
   "language": "python",
   "name": "python3"
  },
  "language_info": {
   "codemirror_mode": {
    "name": "ipython",
    "version": 3
   },
   "file_extension": ".py",
   "mimetype": "text/x-python",
   "name": "python",
   "nbconvert_exporter": "python",
   "pygments_lexer": "ipython3",
   "version": "3.9.1"
  }
 },
 "nbformat": 4,
 "nbformat_minor": 5
}
